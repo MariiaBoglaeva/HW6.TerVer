{
 "cells": [
  {
   "cell_type": "markdown",
   "id": "7722749a",
   "metadata": {},
   "source": [
    "Задача 1. Известно, что генеральная совокупность распределена нормально\n",
    "со средним квадратическим отклонением, равным 16.\n",
    "Найти доверительный интервал для оценки математического ожидания с надежностью\n",
    "0.95,\n",
    "если выборочная средняя M = 80, а объем выборки n = 256."
   ]
  },
  {
   "cell_type": "code",
   "execution_count": null,
   "id": "ed116bfc",
   "metadata": {},
   "outputs": [],
   "source": [
    "Так как сигма ген.совокупности известна, используем Z"
   ]
  },
  {
   "cell_type": "code",
   "execution_count": null,
   "id": "cda287da",
   "metadata": {},
   "outputs": [],
   "source": [
    "x_mean = 80\n",
    "n=256\n",
    "sko = 16\n",
    "z_tabl = 1,96 (значение из таблицы)\n",
    "80 - 1.96*16/sqrt(256) = 78.04\n",
    "80 + 1.96*16/sqrt(256) = 80 + 1.96*1=81.96\n",
    "Ответ: [78.04, 81.96]"
   ]
  },
  {
   "cell_type": "markdown",
   "id": "2f5de727",
   "metadata": {},
   "source": [
    "Задача 2. В результате 10 независимых измерений некоторой величины X, выполненных с\n",
    "одинаковой точностью,\n",
    "получены опытные данные:\n",
    "6.9, 6.1, 6.2, 6.8, 7.5, 6.3, 6.4, 6.9, 6.7, 6.1\n",
    "Предполагая, что результаты измерений подчинены нормальному закону распределения\n",
    "вероятностей,\n",
    "оценить истинное значение величины X при помощи доверительного интервала,\n",
    "покрывающего это\n",
    "значение с доверительной вероятностью 0,95."
   ]
  },
  {
   "cell_type": "code",
   "execution_count": 2,
   "id": "90acff24",
   "metadata": {},
   "outputs": [
    {
     "data": {
      "text/plain": [
       "6.590000000000001"
      ]
     },
     "execution_count": 2,
     "metadata": {},
     "output_type": "execute_result"
    }
   ],
   "source": [
    "import numpy as np\n",
    "from scipy import stats\n",
    "alpa = 0.95\n",
    "a = np.array([6.9, 6.1, 6.2, 6.8, 7.5, 6.3, 6.4, 6.9, 6.7, 6.1])\n",
    "a_mean = np.mean(a)\n",
    "a_mean\n"
   ]
  },
  {
   "cell_type": "code",
   "execution_count": 4,
   "id": "875becf5",
   "metadata": {},
   "outputs": [
    {
     "data": {
      "text/plain": [
       "0.2032222222222223"
      ]
     },
     "execution_count": 4,
     "metadata": {},
     "output_type": "execute_result"
    }
   ],
   "source": [
    "a_d = np.var(a, ddof=1) \n",
    "a_d"
   ]
  },
  {
   "cell_type": "code",
   "execution_count": 3,
   "id": "113bca82",
   "metadata": {},
   "outputs": [
    {
     "data": {
      "text/plain": [
       "2.2621571627409915"
      ]
     },
     "execution_count": 3,
     "metadata": {},
     "output_type": "execute_result"
    }
   ],
   "source": [
    "count = len (a)\n",
    "t1 = stats.t.ppf(0.975, count-1)\n",
    "t1"
   ]
  },
  {
   "cell_type": "code",
   "execution_count": 9,
   "id": "ae6d9cf2",
   "metadata": {},
   "outputs": [],
   "source": [
    "a_1 = a_mean - (t1 * np.sqrt(a_d / 10))"
   ]
  },
  {
   "cell_type": "code",
   "execution_count": 10,
   "id": "a9d6dea4",
   "metadata": {},
   "outputs": [],
   "source": [
    "a_2 = a_mean + (t1 * np.sqrt(a_d / 10))"
   ]
  },
  {
   "cell_type": "code",
   "execution_count": 11,
   "id": "a8138b2f",
   "metadata": {},
   "outputs": [
    {
     "data": {
      "text/plain": [
       "(6.267515851415713, 6.912484148584288)"
      ]
     },
     "execution_count": 11,
     "metadata": {},
     "output_type": "execute_result"
    }
   ],
   "source": [
    "a_1, a_2"
   ]
  },
  {
   "cell_type": "markdown",
   "id": "3095dfc5",
   "metadata": {},
   "source": [
    "Задача 3. Рост дочерей 175, 167, 154, 174, 178, 148, 160, 167, 169, 170\n",
    "Рост матерей 178, 165, 165, 173, 168, 155, 160, 164, 178, 175\n",
    "\n",
    "Используя эти данные построить 95% доверительный интервал для разности среднего\n",
    "роста родителей и детей."
   ]
  },
  {
   "cell_type": "code",
   "execution_count": 30,
   "id": "5e2d6537",
   "metadata": {},
   "outputs": [],
   "source": [
    "import numpy as np\n",
    "from scipy import stats\n",
    "d = np.array([175, 167, 154, 174, 178, 148, 160, 167, 169, 170])\n",
    "m = np.array([178, 165, 165, 173, 168, 155, 160, 164, 178, 175])\n"
   ]
  },
  {
   "cell_type": "code",
   "execution_count": 27,
   "id": "2f9b9010",
   "metadata": {},
   "outputs": [
    {
     "data": {
      "text/plain": [
       "1.9000000000000057"
      ]
     },
     "execution_count": 27,
     "metadata": {},
     "output_type": "execute_result"
    }
   ],
   "source": [
    "d_mean = np.mean(d)\n",
    "m_mean = np.mean(m)\n",
    "d_mean, m_mean\n",
    "delta = m_mean - d_mean\n",
    "delta "
   ]
  },
  {
   "cell_type": "code",
   "execution_count": 37,
   "id": "2c1db97b",
   "metadata": {},
   "outputs": [
    {
     "data": {
      "text/plain": [
       "75.58333333333334"
      ]
     },
     "execution_count": 37,
     "metadata": {},
     "output_type": "execute_result"
    }
   ],
   "source": [
    "d_d = np.var(d, ddof=1)\n",
    "m_d = np.var(m, ddof=1)\n",
    "D = (d_d+m_d)/2\n",
    "D"
   ]
  },
  {
   "cell_type": "code",
   "execution_count": 38,
   "id": "87b02b0f",
   "metadata": {},
   "outputs": [
    {
     "data": {
      "text/plain": [
       "3.8880157750022915"
      ]
     },
     "execution_count": 38,
     "metadata": {},
     "output_type": "execute_result"
    }
   ],
   "source": [
    "n_m = len(m)\n",
    "n_d = len(d)\n",
    "s = np.sqrt(D/n_d + D/n_m)\n",
    "s #стандарная ощибка разности средних"
   ]
  },
  {
   "cell_type": "code",
   "execution_count": 39,
   "id": "4080eaa8",
   "metadata": {},
   "outputs": [
    {
     "data": {
      "text/plain": [
       "2.10092204024096"
      ]
     },
     "execution_count": 39,
     "metadata": {},
     "output_type": "execute_result"
    }
   ],
   "source": [
    "df = 2* (n_m -1)\n",
    "t = stats.t.ppf(0.975, df)\n",
    "t"
   ]
  },
  {
   "cell_type": "code",
   "execution_count": 40,
   "id": "ae09e3f7",
   "metadata": {},
   "outputs": [
    {
     "data": {
      "text/plain": [
       "(-6.268418034506846, 10.068418034506857)"
      ]
     },
     "execution_count": 40,
     "metadata": {},
     "output_type": "execute_result"
    }
   ],
   "source": [
    "l = delta - t*s\n",
    "r = delta + t*s\n",
    "l, r"
   ]
  }
 ],
 "metadata": {
  "kernelspec": {
   "display_name": "Python 3 (ipykernel)",
   "language": "python",
   "name": "python3"
  },
  "language_info": {
   "codemirror_mode": {
    "name": "ipython",
    "version": 3
   },
   "file_extension": ".py",
   "mimetype": "text/x-python",
   "name": "python",
   "nbconvert_exporter": "python",
   "pygments_lexer": "ipython3",
   "version": "3.9.13"
  }
 },
 "nbformat": 4,
 "nbformat_minor": 5
}
